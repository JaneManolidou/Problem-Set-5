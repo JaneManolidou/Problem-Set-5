{
 "cells": [
  {
   "cell_type": "code",
   "execution_count": 5,
   "metadata": {},
   "outputs": [],
   "source": [
    "import numpy as np\n",
    "import matplotlib.pyplot as plt\n",
    "import matplotlib.ticker as ticker\n",
    "import math"
   ]
  },
  {
   "cell_type": "markdown",
   "metadata": {},
   "source": [
    "# Άσκηση 1\n",
    "Μέθοδος Runge - Kutta 2ης τάξης\n"
   ]
  },
  {
   "cell_type": "code",
   "execution_count": 6,
   "metadata": {},
   "outputs": [],
   "source": [
    "def yy(x,y):\n",
    "    yy = (-10)*(y**2)/x\n",
    "    return yy\n",
    "yo = 1\n",
    "xo = 0.1"
   ]
  },
  {
   "cell_type": "code",
   "execution_count": 7,
   "metadata": {},
   "outputs": [],
   "source": [
    "def y(x):\n",
    "    a = 10*np.log(x)+24.02585\n",
    "    y = 1/a\n",
    "    return y\n",
    "\n",
    "\n",
    "def RK(h):\n",
    "    yn = 1\n",
    "    xn = 0.1\n",
    "   \n",
    "    X = [xn]\n",
    "    Y = [yn]\n",
    "    er = [abs(yn-y(1.1))]\n",
    "    xf = 1.1\n",
    "    while abs(xn-xf)>abs(h/2):\n",
    "        \n",
    "        k1 = h*yy(xn,yn)\n",
    "        k2 = h*yy(xn+(h),yn+(k1))\n",
    "        yn = yn +((1/2)*(k1+k2))\n",
    "        xn = xn + h\n",
    "        er.append(abs(yn-y(1.1)))\n",
    "        X.append(xn)\n",
    "        Y.append(yn)\n",
    "    plot1 = plt.plot(X,er,  color ='green', marker = 'o')\n",
    "    plt.grid(True)\n",
    "   \n",
    "    print(\"The solution for h =\", h, \"is\", yn)\n",
    "    return plot1"
   ]
  },
  {
   "cell_type": "code",
   "execution_count": 8,
   "metadata": {},
   "outputs": [
    {
     "data": {
      "text/plain": [
       "0.040033705500738266"
      ]
     },
     "execution_count": 8,
     "metadata": {},
     "output_type": "execute_result"
    }
   ],
   "source": [
    "y(1.1)"
   ]
  },
  {
   "cell_type": "code",
   "execution_count": 9,
   "metadata": {},
   "outputs": [
    {
     "name": "stdout",
     "output_type": "stream",
     "text": [
      "The solution for h = 0.01 is 0.04014759905153011\n"
     ]
    },
    {
     "data": {
      "image/png": "[encoded data removed]",
      "text/plain": [
       "<Figure size 432x288 with 1 Axes>"
      ]
     },
     "metadata": {
      "needs_background": "light"
     },
     "output_type": "display_data"
    }
   ],
   "source": [
    "plot1 = RK(0.01)"
   ]
  },
  {
   "cell_type": "code",
   "execution_count": 10,
   "metadata": {},
   "outputs": [
    {
     "name": "stdout",
     "output_type": "stream",
     "text": [
      "The solution for h = 0.015 is 0.029305505370344057\n"
     ]
    },
    {
     "data": {
      "image/png": "[encoded data removed]",
      "text/plain": [
       "<Figure size 432x288 with 1 Axes>"
      ]
     },
     "metadata": {
      "needs_background": "light"
     },
     "output_type": "display_data"
    }
   ],
   "source": [
    "plot2 = RK(0.015)"
   ]
  },
  {
   "cell_type": "code",
   "execution_count": 11,
   "metadata": {},
   "outputs": [
    {
     "ename": "OverflowError",
     "evalue": "(34, 'Result too large')",
     "output_type": "error",
     "traceback": [
      "\u001b[1;31m---------------------------------------------------------------------------\u001b[0m",
      "\u001b[1;31mOverflowError\u001b[0m                             Traceback (most recent call last)",
      "\u001b[1;32m<ipython-input-11-0142e06df560>\u001b[0m in \u001b[0;36m<module>\u001b[1;34m\u001b[0m\n\u001b[1;32m----> 1\u001b[1;33m \u001b[0mplot3\u001b[0m \u001b[1;33m=\u001b[0m \u001b[0mRK\u001b[0m\u001b[1;33m(\u001b[0m\u001b[1;36m0.02\u001b[0m\u001b[1;33m)\u001b[0m\u001b[1;33m\u001b[0m\u001b[1;33m\u001b[0m\u001b[0m\n\u001b[0m",
      "\u001b[1;32m<ipython-input-7-153f90ee3ee9>\u001b[0m in \u001b[0;36mRK\u001b[1;34m(h)\u001b[0m\n\u001b[0;32m     15\u001b[0m     \u001b[1;32mwhile\u001b[0m \u001b[0mabs\u001b[0m\u001b[1;33m(\u001b[0m\u001b[0mxn\u001b[0m\u001b[1;33m-\u001b[0m\u001b[0mxf\u001b[0m\u001b[1;33m)\u001b[0m\u001b[1;33m>\u001b[0m\u001b[0mabs\u001b[0m\u001b[1;33m(\u001b[0m\u001b[0mh\u001b[0m\u001b[1;33m/\u001b[0m\u001b[1;36m2\u001b[0m\u001b[1;33m)\u001b[0m\u001b[1;33m:\u001b[0m\u001b[1;33m\u001b[0m\u001b[1;33m\u001b[0m\u001b[0m\n\u001b[0;32m     16\u001b[0m \u001b[1;33m\u001b[0m\u001b[0m\n\u001b[1;32m---> 17\u001b[1;33m         \u001b[0mk1\u001b[0m \u001b[1;33m=\u001b[0m \u001b[0mh\u001b[0m\u001b[1;33m*\u001b[0m\u001b[0myy\u001b[0m\u001b[1;33m(\u001b[0m\u001b[0mxn\u001b[0m\u001b[1;33m,\u001b[0m\u001b[0myn\u001b[0m\u001b[1;33m)\u001b[0m\u001b[1;33m\u001b[0m\u001b[1;33m\u001b[0m\u001b[0m\n\u001b[0m\u001b[0;32m     18\u001b[0m         \u001b[0mk2\u001b[0m \u001b[1;33m=\u001b[0m \u001b[0mh\u001b[0m\u001b[1;33m*\u001b[0m\u001b[0myy\u001b[0m\u001b[1;33m(\u001b[0m\u001b[0mxn\u001b[0m\u001b[1;33m+\u001b[0m\u001b[1;33m(\u001b[0m\u001b[0mh\u001b[0m\u001b[1;33m)\u001b[0m\u001b[1;33m,\u001b[0m\u001b[0myn\u001b[0m\u001b[1;33m+\u001b[0m\u001b[1;33m(\u001b[0m\u001b[0mk1\u001b[0m\u001b[1;33m)\u001b[0m\u001b[1;33m)\u001b[0m\u001b[1;33m\u001b[0m\u001b[1;33m\u001b[0m\u001b[0m\n\u001b[0;32m     19\u001b[0m         \u001b[0myn\u001b[0m \u001b[1;33m=\u001b[0m \u001b[0myn\u001b[0m \u001b[1;33m+\u001b[0m\u001b[1;33m(\u001b[0m\u001b[1;33m(\u001b[0m\u001b[1;36m1\u001b[0m\u001b[1;33m/\u001b[0m\u001b[1;36m2\u001b[0m\u001b[1;33m)\u001b[0m\u001b[1;33m*\u001b[0m\u001b[1;33m(\u001b[0m\u001b[0mk1\u001b[0m\u001b[1;33m+\u001b[0m\u001b[0mk2\u001b[0m\u001b[1;33m)\u001b[0m\u001b[1;33m)\u001b[0m\u001b[1;33m\u001b[0m\u001b[1;33m\u001b[0m\u001b[0m\n",
      "\u001b[1;32m<ipython-input-6-d0fb3ac07c04>\u001b[0m in \u001b[0;36myy\u001b[1;34m(x, y)\u001b[0m\n\u001b[0;32m      1\u001b[0m \u001b[1;32mdef\u001b[0m \u001b[0myy\u001b[0m\u001b[1;33m(\u001b[0m\u001b[0mx\u001b[0m\u001b[1;33m,\u001b[0m\u001b[0my\u001b[0m\u001b[1;33m)\u001b[0m\u001b[1;33m:\u001b[0m\u001b[1;33m\u001b[0m\u001b[1;33m\u001b[0m\u001b[0m\n\u001b[1;32m----> 2\u001b[1;33m     \u001b[0myy\u001b[0m \u001b[1;33m=\u001b[0m \u001b[1;33m(\u001b[0m\u001b[1;33m-\u001b[0m\u001b[1;36m10\u001b[0m\u001b[1;33m)\u001b[0m\u001b[1;33m*\u001b[0m\u001b[1;33m(\u001b[0m\u001b[0my\u001b[0m\u001b[1;33m**\u001b[0m\u001b[1;36m2\u001b[0m\u001b[1;33m)\u001b[0m\u001b[1;33m/\u001b[0m\u001b[0mx\u001b[0m\u001b[1;33m\u001b[0m\u001b[1;33m\u001b[0m\u001b[0m\n\u001b[0m\u001b[0;32m      3\u001b[0m     \u001b[1;32mreturn\u001b[0m \u001b[0myy\u001b[0m\u001b[1;33m\u001b[0m\u001b[1;33m\u001b[0m\u001b[0m\n\u001b[0;32m      4\u001b[0m \u001b[0myo\u001b[0m \u001b[1;33m=\u001b[0m \u001b[1;36m1\u001b[0m\u001b[1;33m\u001b[0m\u001b[1;33m\u001b[0m\u001b[0m\n\u001b[0;32m      5\u001b[0m \u001b[0mxo\u001b[0m \u001b[1;33m=\u001b[0m \u001b[1;36m0.1\u001b[0m\u001b[1;33m\u001b[0m\u001b[1;33m\u001b[0m\u001b[0m\n",
      "\u001b[1;31mOverflowError\u001b[0m: (34, 'Result too large')"
     ]
    }
   ],
   "source": [
    "plot3 = RK(0.02)"
   ]
  },
  {
   "cell_type": "code",
   "execution_count": 12,
   "metadata": {},
   "outputs": [
    {
     "name": "stdout",
     "output_type": "stream",
     "text": [
      "The solution for h = 0.001 is 0.04003947333825838\n"
     ]
    },
    {
     "data": {
      "image/png": "[encoded data removed]",
      "text/plain": [
       "<Figure size 432x288 with 1 Axes>"
      ]
     },
     "metadata": {
      "needs_background": "light"
     },
     "output_type": "display_data"
    }
   ],
   "source": [
    "plot4 = RK(0.001)"
   ]
  },
  {
   "cell_type": "markdown",
   "metadata": {},
   "source": [
    "# Άσκηση 2\n",
    "Πρόβλημα Συνοριακών Τιμών"
   ]
  },
  {
   "cell_type": "code",
   "execution_count": 13,
   "metadata": {},
   "outputs": [],
   "source": [
    "def trial1(x,y):\n",
    "    yy = np.exp(2*x)-np.exp((-4)*x)\n",
    "    return yy"
   ]
  },
  {
   "cell_type": "code",
   "execution_count": 14,
   "metadata": {},
   "outputs": [],
   "source": [
    "def y2(x):\n",
    "    y = 1.156518*np.exp(2*x)-0.156517*np.exp((-4)*x)\n",
    "    return y\n",
    "def z(z,y):\n",
    "    return -2*z+8*y\n",
    "\n",
    "#We need to apply the method into a two dimensional system of y & z\n",
    "\n",
    "def RK2(h,xn,yn,zn):\n",
    "    \n",
    "    \n",
    "    Z = [zn]\n",
    "    Y = [yn]\n",
    "    er = [abs(yn-y2(1))]\n",
    "    xf = 1\n",
    "    \n",
    "    while abs(xn-xf)>abs(h/2):\n",
    "        \n",
    "        k1 = h*zn\n",
    "        l1 = h* z(zn,yn)\n",
    "        \n",
    "        k2 = h*(zn+l1)\n",
    "        l2 = h*z(zn+l1,yn+k1)\n",
    "        \n",
    "        yn = yn +((1/2)*(k1+k2))\n",
    "        zn = zn + ((1/2)*(l1+l2))\n",
    "        \n",
    "        xn = xn + h\n",
    "        \n",
    "        er.append(abs(yn-y(1.1)))\n",
    "        \n",
    "        Z.append(zn)\n",
    "        Y.append(yn)\n",
    "    \n",
    "   \n",
    "\n",
    "    return yn"
   ]
  },
  {
   "cell_type": "code",
   "execution_count": 15,
   "metadata": {},
   "outputs": [
    {
     "name": "stdout",
     "output_type": "stream",
     "text": [
      "The solution for h = 0.01 is 8.616377253922469\n"
     ]
    }
   ],
   "source": [
    "yn = RK2(0.01,0,1,3)\n",
    "print(\"The solution for h =\", 0.01, \"is\", yn)"
   ]
  },
  {
   "cell_type": "code",
   "execution_count": 16,
   "metadata": {},
   "outputs": [
    {
     "name": "stdout",
     "output_type": "stream",
     "text": [
      "The solution for h = 0.01 is 8.493548090039452\n"
     ]
    }
   ],
   "source": [
    "yn = RK2(0.01, 0, 1, 2.9)\n",
    "print(\"The solution for h =\", 0.01, \"is\", yn)"
   ]
  },
  {
   "cell_type": "markdown",
   "metadata": {},
   "source": [
    "Παρατηρουμε ότι δεν πετυχαίνουμε την ρίζα κατά πολύ"
   ]
  },
  {
   "cell_type": "markdown",
   "metadata": {},
   "source": [
    "Ας φτιάξουμε έναν αλγόριθμο που θα αξιοποιεί το παραπάνω και θα χρησιμοποιεί τη γραμμική παρεμβολή για να επιλέξει τις κατάλληλες τιμές v"
   ]
  },
  {
   "cell_type": "code",
   "execution_count": 41,
   "metadata": {},
   "outputs": [],
   "source": [
    "def lp(x0,u0,u1,v0,h):\n",
    "    #let's see now\n",
    "    #v0 is the initial assumption for the value of z=y'\n",
    "    #let's run runge kutta once for this\n",
    "    \n",
    "    yn = RK2(h,x0,u0,v0)\n",
    "    ub1 = yn\n",
    "    t = u1 - yn\n",
    "    v1 = v0\n",
    "    \n",
    "    if t>0:\n",
    "        #this means we hit lower than our target\n",
    "        \n",
    "        v0 = v0+1\n",
    "    if t<0:\n",
    "        #this means we hit higher than our target\n",
    "        \n",
    "        v0 = v0 - 1\n",
    "        \n",
    "    yn = RK2(h,x0,u0,v0)\n",
    "    ub2 = yn\n",
    "    t = u1 - yn\n",
    "   \n",
    "    v2 = v0\n",
    "    a = ub2/(ub2-ub1)\n",
    "    #let's seek a solution with a maximum error of 1\n",
    "    \n",
    "    while abs(t)>=1:\n",
    "        \n",
    "        v0 = v2 - a*(v2-v1)\n",
    "        \n",
    "        yn = RK2(h,x0,u0,v0)\n",
    "        \n",
    "        t = u1 - yn\n",
    "        \n",
    "        if t<0:\n",
    "            #the new solution hit higher then the value\n",
    "            #we need to decrease our upper limit\n",
    "            v2 = v0\n",
    "            if ub2>ub1:\n",
    "                ub2 = yn\n",
    "            else:\n",
    "                ub1 = yn\n",
    "        if t>0 :\n",
    "            #the new solution is lower than the real value\n",
    "            #we need to increase our lower limit\n",
    "            v1 = v0\n",
    "            \n",
    "            if ub2>ub1:\n",
    "                ub1 = yn\n",
    "            else:\n",
    "                ub2 = yn\n",
    "    \n",
    "    return yn\n",
    "    "
   ]
  },
  {
   "cell_type": "markdown",
   "metadata": {},
   "source": [
    "In the end we get a result of"
   ]
  },
  {
   "cell_type": "code",
   "execution_count": 42,
   "metadata": {},
   "outputs": [
    {
     "name": "stdout",
     "output_type": "stream",
     "text": [
      "5.2284565565940966e-15\n"
     ]
    }
   ],
   "source": [
    "print(lp(0,1,0,3,0.01))"
   ]
  },
  {
   "cell_type": "markdown",
   "metadata": {},
   "source": [
    "ok so the algorithm didn't work (probably it's just because it's taking too long)"
   ]
  },
  {
   "cell_type": "markdown",
   "metadata": {},
   "source": [
    "let's try doing the calculations manually"
   ]
  },
  {
   "cell_type": "code",
   "execution_count": 22,
   "metadata": {},
   "outputs": [
    {
     "name": "stdout",
     "output_type": "stream",
     "text": [
      "We get 8.616377253922469 for v0= 3  and -1.2099558567189952 for v0 =  -5\n"
     ]
    }
   ],
   "source": [
    "v1 = 3\n",
    "v2 = -5\n",
    "\n",
    "u1 = RK2(0.01,0,1,v1)\n",
    "u2 = RK2(0.01,0,1,v2)\n",
    "print(\"We get\", u1, \"for v0=\",v1,\" and\", u2, \"for v0 = \", v2)"
   ]
  },
  {
   "cell_type": "markdown",
   "metadata": {},
   "source": [
    "ok so now we have 2 values, one on one side of the real value for u and one on the other"
   ]
  },
  {
   "cell_type": "code",
   "execution_count": 44,
   "metadata": {},
   "outputs": [
    {
     "name": "stdout",
     "output_type": "stream",
     "text": [
      "-4.014927873423164\n"
     ]
    }
   ],
   "source": [
    "v3 = v2-(u2/(u2-u1))*(v2-v1)\n",
    "print(v3)"
   ]
  },
  {
   "cell_type": "code",
   "execution_count": 47,
   "metadata": {},
   "outputs": [
    {
     "name": "stdout",
     "output_type": "stream",
     "text": [
      "For our new v which is -4.014927873423164 we get y(1)= -7.348722325106749e-16\n"
     ]
    }
   ],
   "source": [
    "print(\"For our new v which is\", v3, \"we get y(1)=\", RK2(0.01,0,1,v3))"
   ]
  },
  {
   "cell_type": "code",
   "execution_count": null,
   "metadata": {},
   "outputs": [],
   "source": []
  }
 ],
 "metadata": {
  "kernelspec": {
   "display_name": "Python 3",
   "language": "python",
   "name": "python3"
  },
  "language_info": {
   "codemirror_mode": {
    "name": "ipython",
    "version": 3
   },
   "file_extension": ".py",
   "mimetype": "text/x-python",
   "name": "python",
   "nbconvert_exporter": "python",
   "pygments_lexer": "ipython3",
   "version": "3.7.4"
  }
 },
 "nbformat": 4,
 "nbformat_minor": 2
}
